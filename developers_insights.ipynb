{
 "cells": [
  {
   "cell_type": "code",
   "execution_count": 43,
   "metadata": {},
   "outputs": [
    {
     "data": {
      "text/html": [
       "<div>\n",
       "<style scoped>\n",
       "    .dataframe tbody tr th:only-of-type {\n",
       "        vertical-align: middle;\n",
       "    }\n",
       "\n",
       "    .dataframe tbody tr th {\n",
       "        vertical-align: top;\n",
       "    }\n",
       "\n",
       "    .dataframe thead th {\n",
       "        text-align: right;\n",
       "    }\n",
       "</style>\n",
       "<table border=\"1\" class=\"dataframe\">\n",
       "  <thead>\n",
       "    <tr style=\"text-align: right;\">\n",
       "      <th></th>\n",
       "      <th>Respondent</th>\n",
       "      <th>MainBranch</th>\n",
       "      <th>Hobbyist</th>\n",
       "      <th>Age</th>\n",
       "      <th>Age1stCode</th>\n",
       "      <th>CompFreq</th>\n",
       "      <th>CompTotal</th>\n",
       "      <th>ConvertedComp</th>\n",
       "      <th>Country</th>\n",
       "      <th>CurrencyDesc</th>\n",
       "      <th>...</th>\n",
       "      <th>SurveyEase</th>\n",
       "      <th>SurveyLength</th>\n",
       "      <th>Trans</th>\n",
       "      <th>UndergradMajor</th>\n",
       "      <th>WebframeDesireNextYear</th>\n",
       "      <th>WebframeWorkedWith</th>\n",
       "      <th>WelcomeChange</th>\n",
       "      <th>WorkWeekHrs</th>\n",
       "      <th>YearsCode</th>\n",
       "      <th>YearsCodePro</th>\n",
       "    </tr>\n",
       "  </thead>\n",
       "  <tbody>\n",
       "    <tr>\n",
       "      <th>0</th>\n",
       "      <td>1</td>\n",
       "      <td>I am a developer by profession</td>\n",
       "      <td>Yes</td>\n",
       "      <td>NaN</td>\n",
       "      <td>13</td>\n",
       "      <td>Monthly</td>\n",
       "      <td>NaN</td>\n",
       "      <td>NaN</td>\n",
       "      <td>Germany</td>\n",
       "      <td>European Euro</td>\n",
       "      <td>...</td>\n",
       "      <td>Neither easy nor difficult</td>\n",
       "      <td>Appropriate in length</td>\n",
       "      <td>No</td>\n",
       "      <td>Computer science, computer engineering, or sof...</td>\n",
       "      <td>ASP.NET Core</td>\n",
       "      <td>ASP.NET;ASP.NET Core</td>\n",
       "      <td>Just as welcome now as I felt last year</td>\n",
       "      <td>50.0</td>\n",
       "      <td>36</td>\n",
       "      <td>27</td>\n",
       "    </tr>\n",
       "    <tr>\n",
       "      <th>1</th>\n",
       "      <td>2</td>\n",
       "      <td>I am a developer by profession</td>\n",
       "      <td>No</td>\n",
       "      <td>NaN</td>\n",
       "      <td>19</td>\n",
       "      <td>NaN</td>\n",
       "      <td>NaN</td>\n",
       "      <td>NaN</td>\n",
       "      <td>United Kingdom</td>\n",
       "      <td>Pound sterling</td>\n",
       "      <td>...</td>\n",
       "      <td>NaN</td>\n",
       "      <td>NaN</td>\n",
       "      <td>NaN</td>\n",
       "      <td>Computer science, computer engineering, or sof...</td>\n",
       "      <td>NaN</td>\n",
       "      <td>NaN</td>\n",
       "      <td>Somewhat more welcome now than last year</td>\n",
       "      <td>NaN</td>\n",
       "      <td>7</td>\n",
       "      <td>4</td>\n",
       "    </tr>\n",
       "    <tr>\n",
       "      <th>2</th>\n",
       "      <td>3</td>\n",
       "      <td>I code primarily as a hobby</td>\n",
       "      <td>Yes</td>\n",
       "      <td>NaN</td>\n",
       "      <td>15</td>\n",
       "      <td>NaN</td>\n",
       "      <td>NaN</td>\n",
       "      <td>NaN</td>\n",
       "      <td>Russian Federation</td>\n",
       "      <td>NaN</td>\n",
       "      <td>...</td>\n",
       "      <td>Neither easy nor difficult</td>\n",
       "      <td>Appropriate in length</td>\n",
       "      <td>NaN</td>\n",
       "      <td>NaN</td>\n",
       "      <td>NaN</td>\n",
       "      <td>NaN</td>\n",
       "      <td>Somewhat more welcome now than last year</td>\n",
       "      <td>NaN</td>\n",
       "      <td>4</td>\n",
       "      <td>NaN</td>\n",
       "    </tr>\n",
       "    <tr>\n",
       "      <th>3</th>\n",
       "      <td>4</td>\n",
       "      <td>I am a developer by profession</td>\n",
       "      <td>Yes</td>\n",
       "      <td>25.0</td>\n",
       "      <td>18</td>\n",
       "      <td>NaN</td>\n",
       "      <td>NaN</td>\n",
       "      <td>NaN</td>\n",
       "      <td>Albania</td>\n",
       "      <td>Albanian lek</td>\n",
       "      <td>...</td>\n",
       "      <td>NaN</td>\n",
       "      <td>NaN</td>\n",
       "      <td>No</td>\n",
       "      <td>Computer science, computer engineering, or sof...</td>\n",
       "      <td>NaN</td>\n",
       "      <td>NaN</td>\n",
       "      <td>Somewhat less welcome now than last year</td>\n",
       "      <td>40.0</td>\n",
       "      <td>7</td>\n",
       "      <td>4</td>\n",
       "    </tr>\n",
       "    <tr>\n",
       "      <th>4</th>\n",
       "      <td>5</td>\n",
       "      <td>I used to be a developer by profession, but no...</td>\n",
       "      <td>Yes</td>\n",
       "      <td>31.0</td>\n",
       "      <td>16</td>\n",
       "      <td>NaN</td>\n",
       "      <td>NaN</td>\n",
       "      <td>NaN</td>\n",
       "      <td>United States</td>\n",
       "      <td>NaN</td>\n",
       "      <td>...</td>\n",
       "      <td>Easy</td>\n",
       "      <td>Too short</td>\n",
       "      <td>No</td>\n",
       "      <td>Computer science, computer engineering, or sof...</td>\n",
       "      <td>Django;Ruby on Rails</td>\n",
       "      <td>Ruby on Rails</td>\n",
       "      <td>Just as welcome now as I felt last year</td>\n",
       "      <td>NaN</td>\n",
       "      <td>15</td>\n",
       "      <td>8</td>\n",
       "    </tr>\n",
       "    <tr>\n",
       "      <th>5</th>\n",
       "      <td>6</td>\n",
       "      <td>I am a developer by profession</td>\n",
       "      <td>No</td>\n",
       "      <td>NaN</td>\n",
       "      <td>14</td>\n",
       "      <td>NaN</td>\n",
       "      <td>NaN</td>\n",
       "      <td>NaN</td>\n",
       "      <td>Germany</td>\n",
       "      <td>European Euro</td>\n",
       "      <td>...</td>\n",
       "      <td>Neither easy nor difficult</td>\n",
       "      <td>Appropriate in length</td>\n",
       "      <td>NaN</td>\n",
       "      <td>NaN</td>\n",
       "      <td>React.js</td>\n",
       "      <td>NaN</td>\n",
       "      <td>NaN</td>\n",
       "      <td>NaN</td>\n",
       "      <td>6</td>\n",
       "      <td>4</td>\n",
       "    </tr>\n",
       "    <tr>\n",
       "      <th>6</th>\n",
       "      <td>7</td>\n",
       "      <td>I am a developer by profession</td>\n",
       "      <td>Yes</td>\n",
       "      <td>NaN</td>\n",
       "      <td>18</td>\n",
       "      <td>Monthly</td>\n",
       "      <td>NaN</td>\n",
       "      <td>NaN</td>\n",
       "      <td>India</td>\n",
       "      <td>United States dollar</td>\n",
       "      <td>...</td>\n",
       "      <td>NaN</td>\n",
       "      <td>NaN</td>\n",
       "      <td>NaN</td>\n",
       "      <td>Computer science, computer engineering, or sof...</td>\n",
       "      <td>NaN</td>\n",
       "      <td>NaN</td>\n",
       "      <td>A lot more welcome now than last year</td>\n",
       "      <td>NaN</td>\n",
       "      <td>6</td>\n",
       "      <td>4</td>\n",
       "    </tr>\n",
       "    <tr>\n",
       "      <th>7</th>\n",
       "      <td>8</td>\n",
       "      <td>I am a developer by profession</td>\n",
       "      <td>Yes</td>\n",
       "      <td>36.0</td>\n",
       "      <td>12</td>\n",
       "      <td>Yearly</td>\n",
       "      <td>116000.0</td>\n",
       "      <td>116000.0</td>\n",
       "      <td>United States</td>\n",
       "      <td>United States dollar</td>\n",
       "      <td>...</td>\n",
       "      <td>Easy</td>\n",
       "      <td>Appropriate in length</td>\n",
       "      <td>No</td>\n",
       "      <td>Computer science, computer engineering, or sof...</td>\n",
       "      <td>Django;React.js;Vue.js</td>\n",
       "      <td>Flask</td>\n",
       "      <td>Just as welcome now as I felt last year</td>\n",
       "      <td>39.0</td>\n",
       "      <td>17</td>\n",
       "      <td>13</td>\n",
       "    </tr>\n",
       "    <tr>\n",
       "      <th>8</th>\n",
       "      <td>9</td>\n",
       "      <td>I am a developer by profession</td>\n",
       "      <td>No</td>\n",
       "      <td>30.0</td>\n",
       "      <td>20</td>\n",
       "      <td>NaN</td>\n",
       "      <td>NaN</td>\n",
       "      <td>NaN</td>\n",
       "      <td>Tunisia</td>\n",
       "      <td>United States dollar</td>\n",
       "      <td>...</td>\n",
       "      <td>Neither easy nor difficult</td>\n",
       "      <td>Appropriate in length</td>\n",
       "      <td>No</td>\n",
       "      <td>Computer science, computer engineering, or sof...</td>\n",
       "      <td>Angular.js</td>\n",
       "      <td>jQuery</td>\n",
       "      <td>Just as welcome now as I felt last year</td>\n",
       "      <td>50.0</td>\n",
       "      <td>6</td>\n",
       "      <td>4</td>\n",
       "    </tr>\n",
       "    <tr>\n",
       "      <th>9</th>\n",
       "      <td>10</td>\n",
       "      <td>I am a developer by profession</td>\n",
       "      <td>Yes</td>\n",
       "      <td>22.0</td>\n",
       "      <td>14</td>\n",
       "      <td>Yearly</td>\n",
       "      <td>25000.0</td>\n",
       "      <td>32315.0</td>\n",
       "      <td>United Kingdom</td>\n",
       "      <td>Pound sterling</td>\n",
       "      <td>...</td>\n",
       "      <td>Easy</td>\n",
       "      <td>Appropriate in length</td>\n",
       "      <td>No</td>\n",
       "      <td>Mathematics or statistics</td>\n",
       "      <td>Flask;jQuery</td>\n",
       "      <td>Flask;jQuery</td>\n",
       "      <td>Somewhat more welcome now than last year</td>\n",
       "      <td>36.0</td>\n",
       "      <td>8</td>\n",
       "      <td>4</td>\n",
       "    </tr>\n",
       "    <tr>\n",
       "      <th>10</th>\n",
       "      <td>11</td>\n",
       "      <td>I am a developer by profession</td>\n",
       "      <td>Yes</td>\n",
       "      <td>23.0</td>\n",
       "      <td>13</td>\n",
       "      <td>Yearly</td>\n",
       "      <td>31000.0</td>\n",
       "      <td>40070.0</td>\n",
       "      <td>United Kingdom</td>\n",
       "      <td>Pound sterling</td>\n",
       "      <td>...</td>\n",
       "      <td>Easy</td>\n",
       "      <td>Appropriate in length</td>\n",
       "      <td>No</td>\n",
       "      <td>Computer science, computer engineering, or sof...</td>\n",
       "      <td>Angular;Django;React.js</td>\n",
       "      <td>Angular;Angular.js;Django;React.js</td>\n",
       "      <td>Just as welcome now as I felt last year</td>\n",
       "      <td>40.0</td>\n",
       "      <td>10</td>\n",
       "      <td>2</td>\n",
       "    </tr>\n",
       "    <tr>\n",
       "      <th>11</th>\n",
       "      <td>12</td>\n",
       "      <td>I am a developer by profession</td>\n",
       "      <td>No</td>\n",
       "      <td>49.0</td>\n",
       "      <td>42</td>\n",
       "      <td>Monthly</td>\n",
       "      <td>1100.0</td>\n",
       "      <td>14268.0</td>\n",
       "      <td>Spain</td>\n",
       "      <td>European Euro</td>\n",
       "      <td>...</td>\n",
       "      <td>Easy</td>\n",
       "      <td>Appropriate in length</td>\n",
       "      <td>No</td>\n",
       "      <td>Mathematics or statistics</td>\n",
       "      <td>ASP.NET;jQuery</td>\n",
       "      <td>ASP.NET;jQuery</td>\n",
       "      <td>Just as welcome now as I felt last year</td>\n",
       "      <td>40.0</td>\n",
       "      <td>7</td>\n",
       "      <td>7</td>\n",
       "    </tr>\n",
       "    <tr>\n",
       "      <th>12</th>\n",
       "      <td>13</td>\n",
       "      <td>I am not primarily a developer, but I write co...</td>\n",
       "      <td>Yes</td>\n",
       "      <td>53.0</td>\n",
       "      <td>14</td>\n",
       "      <td>Monthly</td>\n",
       "      <td>3000.0</td>\n",
       "      <td>38916.0</td>\n",
       "      <td>Netherlands</td>\n",
       "      <td>European Euro</td>\n",
       "      <td>...</td>\n",
       "      <td>Neither easy nor difficult</td>\n",
       "      <td>Too long</td>\n",
       "      <td>No</td>\n",
       "      <td>NaN</td>\n",
       "      <td>NaN</td>\n",
       "      <td>NaN</td>\n",
       "      <td>A lot less welcome now than last year</td>\n",
       "      <td>36.0</td>\n",
       "      <td>35</td>\n",
       "      <td>20</td>\n",
       "    </tr>\n",
       "    <tr>\n",
       "      <th>13</th>\n",
       "      <td>14</td>\n",
       "      <td>I am a developer by profession</td>\n",
       "      <td>Yes</td>\n",
       "      <td>27.0</td>\n",
       "      <td>13</td>\n",
       "      <td>Yearly</td>\n",
       "      <td>66000.0</td>\n",
       "      <td>66000.0</td>\n",
       "      <td>United States</td>\n",
       "      <td>United States dollar</td>\n",
       "      <td>...</td>\n",
       "      <td>Neither easy nor difficult</td>\n",
       "      <td>Appropriate in length</td>\n",
       "      <td>No</td>\n",
       "      <td>Computer science, computer engineering, or sof...</td>\n",
       "      <td>Angular;Vue.js</td>\n",
       "      <td>Angular;Vue.js</td>\n",
       "      <td>Just as welcome now as I felt last year</td>\n",
       "      <td>40.0</td>\n",
       "      <td>5</td>\n",
       "      <td>1</td>\n",
       "    </tr>\n",
       "    <tr>\n",
       "      <th>14</th>\n",
       "      <td>15</td>\n",
       "      <td>I am a student who is learning to code</td>\n",
       "      <td>Yes</td>\n",
       "      <td>NaN</td>\n",
       "      <td>13</td>\n",
       "      <td>NaN</td>\n",
       "      <td>NaN</td>\n",
       "      <td>NaN</td>\n",
       "      <td>France</td>\n",
       "      <td>NaN</td>\n",
       "      <td>...</td>\n",
       "      <td>Easy</td>\n",
       "      <td>Appropriate in length</td>\n",
       "      <td>No</td>\n",
       "      <td>Computer science, computer engineering, or sof...</td>\n",
       "      <td>NaN</td>\n",
       "      <td>NaN</td>\n",
       "      <td>Just as welcome now as I felt last year</td>\n",
       "      <td>NaN</td>\n",
       "      <td>4</td>\n",
       "      <td>NaN</td>\n",
       "    </tr>\n",
       "    <tr>\n",
       "      <th>15</th>\n",
       "      <td>16</td>\n",
       "      <td>I am a developer by profession</td>\n",
       "      <td>Yes</td>\n",
       "      <td>45.0</td>\n",
       "      <td>8</td>\n",
       "      <td>Monthly</td>\n",
       "      <td>7000.0</td>\n",
       "      <td>108576.0</td>\n",
       "      <td>United Kingdom</td>\n",
       "      <td>Pound sterling</td>\n",
       "      <td>...</td>\n",
       "      <td>Easy</td>\n",
       "      <td>Appropriate in length</td>\n",
       "      <td>No</td>\n",
       "      <td>Computer science, computer engineering, or sof...</td>\n",
       "      <td>NaN</td>\n",
       "      <td>jQuery;React.js</td>\n",
       "      <td>Just as welcome now as I felt last year</td>\n",
       "      <td>50.0</td>\n",
       "      <td>37</td>\n",
       "      <td>23</td>\n",
       "    </tr>\n",
       "    <tr>\n",
       "      <th>16</th>\n",
       "      <td>17</td>\n",
       "      <td>I am a developer by profession</td>\n",
       "      <td>Yes</td>\n",
       "      <td>25.0</td>\n",
       "      <td>14</td>\n",
       "      <td>Yearly</td>\n",
       "      <td>79000.0</td>\n",
       "      <td>79000.0</td>\n",
       "      <td>United States</td>\n",
       "      <td>United States dollar</td>\n",
       "      <td>...</td>\n",
       "      <td>Easy</td>\n",
       "      <td>Appropriate in length</td>\n",
       "      <td>No</td>\n",
       "      <td>Computer science, computer engineering, or sof...</td>\n",
       "      <td>ASP.NET Core;Gatsby;React.js;Vue.js</td>\n",
       "      <td>ASP.NET;Gatsby;jQuery;React.js;Vue.js</td>\n",
       "      <td>Just as welcome now as I felt last year</td>\n",
       "      <td>40.0</td>\n",
       "      <td>7</td>\n",
       "      <td>3</td>\n",
       "    </tr>\n",
       "    <tr>\n",
       "      <th>17</th>\n",
       "      <td>18</td>\n",
       "      <td>I am a developer by profession</td>\n",
       "      <td>Yes</td>\n",
       "      <td>32.0</td>\n",
       "      <td>12</td>\n",
       "      <td>Monthly</td>\n",
       "      <td>105000.0</td>\n",
       "      <td>1260000.0</td>\n",
       "      <td>United States</td>\n",
       "      <td>United States dollar</td>\n",
       "      <td>...</td>\n",
       "      <td>Neither easy nor difficult</td>\n",
       "      <td>Appropriate in length</td>\n",
       "      <td>No</td>\n",
       "      <td>Computer science, computer engineering, or sof...</td>\n",
       "      <td>NaN</td>\n",
       "      <td>NaN</td>\n",
       "      <td>Just as welcome now as I felt last year</td>\n",
       "      <td>45.0</td>\n",
       "      <td>19</td>\n",
       "      <td>12</td>\n",
       "    </tr>\n",
       "    <tr>\n",
       "      <th>18</th>\n",
       "      <td>19</td>\n",
       "      <td>I am a developer by profession</td>\n",
       "      <td>No</td>\n",
       "      <td>24.0</td>\n",
       "      <td>15</td>\n",
       "      <td>Yearly</td>\n",
       "      <td>83400.0</td>\n",
       "      <td>83400.0</td>\n",
       "      <td>United States</td>\n",
       "      <td>United States dollar</td>\n",
       "      <td>...</td>\n",
       "      <td>Easy</td>\n",
       "      <td>Appropriate in length</td>\n",
       "      <td>No</td>\n",
       "      <td>Computer science, computer engineering, or sof...</td>\n",
       "      <td>Django;Express;React.js</td>\n",
       "      <td>Angular;Angular.js;ASP.NET Core</td>\n",
       "      <td>Just as welcome now as I felt last year</td>\n",
       "      <td>35.0</td>\n",
       "      <td>9</td>\n",
       "      <td>3</td>\n",
       "    </tr>\n",
       "    <tr>\n",
       "      <th>19</th>\n",
       "      <td>20</td>\n",
       "      <td>I am a developer by profession</td>\n",
       "      <td>Yes</td>\n",
       "      <td>40.0</td>\n",
       "      <td>18</td>\n",
       "      <td>NaN</td>\n",
       "      <td>NaN</td>\n",
       "      <td>NaN</td>\n",
       "      <td>Spain</td>\n",
       "      <td>European Euro</td>\n",
       "      <td>...</td>\n",
       "      <td>Easy</td>\n",
       "      <td>Too short</td>\n",
       "      <td>No</td>\n",
       "      <td>Another engineering discipline (such as civil,...</td>\n",
       "      <td>Spring</td>\n",
       "      <td>Angular.js;Spring</td>\n",
       "      <td>Just as welcome now as I felt last year</td>\n",
       "      <td>50.0</td>\n",
       "      <td>22</td>\n",
       "      <td>17</td>\n",
       "    </tr>\n",
       "  </tbody>\n",
       "</table>\n",
       "<p>20 rows × 61 columns</p>\n",
       "</div>"
      ],
      "text/plain": [
       "    Respondent                                         MainBranch Hobbyist  \\\n",
       "0            1                     I am a developer by profession      Yes   \n",
       "1            2                     I am a developer by profession       No   \n",
       "2            3                        I code primarily as a hobby      Yes   \n",
       "3            4                     I am a developer by profession      Yes   \n",
       "4            5  I used to be a developer by profession, but no...      Yes   \n",
       "5            6                     I am a developer by profession       No   \n",
       "6            7                     I am a developer by profession      Yes   \n",
       "7            8                     I am a developer by profession      Yes   \n",
       "8            9                     I am a developer by profession       No   \n",
       "9           10                     I am a developer by profession      Yes   \n",
       "10          11                     I am a developer by profession      Yes   \n",
       "11          12                     I am a developer by profession       No   \n",
       "12          13  I am not primarily a developer, but I write co...      Yes   \n",
       "13          14                     I am a developer by profession      Yes   \n",
       "14          15             I am a student who is learning to code      Yes   \n",
       "15          16                     I am a developer by profession      Yes   \n",
       "16          17                     I am a developer by profession      Yes   \n",
       "17          18                     I am a developer by profession      Yes   \n",
       "18          19                     I am a developer by profession       No   \n",
       "19          20                     I am a developer by profession      Yes   \n",
       "\n",
       "     Age Age1stCode CompFreq  CompTotal  ConvertedComp             Country  \\\n",
       "0    NaN         13  Monthly        NaN            NaN             Germany   \n",
       "1    NaN         19      NaN        NaN            NaN      United Kingdom   \n",
       "2    NaN         15      NaN        NaN            NaN  Russian Federation   \n",
       "3   25.0         18      NaN        NaN            NaN             Albania   \n",
       "4   31.0         16      NaN        NaN            NaN       United States   \n",
       "5    NaN         14      NaN        NaN            NaN             Germany   \n",
       "6    NaN         18  Monthly        NaN            NaN               India   \n",
       "7   36.0         12   Yearly   116000.0       116000.0       United States   \n",
       "8   30.0         20      NaN        NaN            NaN             Tunisia   \n",
       "9   22.0         14   Yearly    25000.0        32315.0      United Kingdom   \n",
       "10  23.0         13   Yearly    31000.0        40070.0      United Kingdom   \n",
       "11  49.0         42  Monthly     1100.0        14268.0               Spain   \n",
       "12  53.0         14  Monthly     3000.0        38916.0         Netherlands   \n",
       "13  27.0         13   Yearly    66000.0        66000.0       United States   \n",
       "14   NaN         13      NaN        NaN            NaN              France   \n",
       "15  45.0          8  Monthly     7000.0       108576.0      United Kingdom   \n",
       "16  25.0         14   Yearly    79000.0        79000.0       United States   \n",
       "17  32.0         12  Monthly   105000.0      1260000.0       United States   \n",
       "18  24.0         15   Yearly    83400.0        83400.0       United States   \n",
       "19  40.0         18      NaN        NaN            NaN               Spain   \n",
       "\n",
       "            CurrencyDesc  ...                  SurveyEase  \\\n",
       "0          European Euro  ...  Neither easy nor difficult   \n",
       "1         Pound sterling  ...                         NaN   \n",
       "2                    NaN  ...  Neither easy nor difficult   \n",
       "3           Albanian lek  ...                         NaN   \n",
       "4                    NaN  ...                        Easy   \n",
       "5          European Euro  ...  Neither easy nor difficult   \n",
       "6   United States dollar  ...                         NaN   \n",
       "7   United States dollar  ...                        Easy   \n",
       "8   United States dollar  ...  Neither easy nor difficult   \n",
       "9         Pound sterling  ...                        Easy   \n",
       "10        Pound sterling  ...                        Easy   \n",
       "11         European Euro  ...                        Easy   \n",
       "12         European Euro  ...  Neither easy nor difficult   \n",
       "13  United States dollar  ...  Neither easy nor difficult   \n",
       "14                   NaN  ...                        Easy   \n",
       "15        Pound sterling  ...                        Easy   \n",
       "16  United States dollar  ...                        Easy   \n",
       "17  United States dollar  ...  Neither easy nor difficult   \n",
       "18  United States dollar  ...                        Easy   \n",
       "19         European Euro  ...                        Easy   \n",
       "\n",
       "             SurveyLength Trans  \\\n",
       "0   Appropriate in length    No   \n",
       "1                     NaN   NaN   \n",
       "2   Appropriate in length   NaN   \n",
       "3                     NaN    No   \n",
       "4               Too short    No   \n",
       "5   Appropriate in length   NaN   \n",
       "6                     NaN   NaN   \n",
       "7   Appropriate in length    No   \n",
       "8   Appropriate in length    No   \n",
       "9   Appropriate in length    No   \n",
       "10  Appropriate in length    No   \n",
       "11  Appropriate in length    No   \n",
       "12               Too long    No   \n",
       "13  Appropriate in length    No   \n",
       "14  Appropriate in length    No   \n",
       "15  Appropriate in length    No   \n",
       "16  Appropriate in length    No   \n",
       "17  Appropriate in length    No   \n",
       "18  Appropriate in length    No   \n",
       "19              Too short    No   \n",
       "\n",
       "                                       UndergradMajor  \\\n",
       "0   Computer science, computer engineering, or sof...   \n",
       "1   Computer science, computer engineering, or sof...   \n",
       "2                                                 NaN   \n",
       "3   Computer science, computer engineering, or sof...   \n",
       "4   Computer science, computer engineering, or sof...   \n",
       "5                                                 NaN   \n",
       "6   Computer science, computer engineering, or sof...   \n",
       "7   Computer science, computer engineering, or sof...   \n",
       "8   Computer science, computer engineering, or sof...   \n",
       "9                           Mathematics or statistics   \n",
       "10  Computer science, computer engineering, or sof...   \n",
       "11                          Mathematics or statistics   \n",
       "12                                                NaN   \n",
       "13  Computer science, computer engineering, or sof...   \n",
       "14  Computer science, computer engineering, or sof...   \n",
       "15  Computer science, computer engineering, or sof...   \n",
       "16  Computer science, computer engineering, or sof...   \n",
       "17  Computer science, computer engineering, or sof...   \n",
       "18  Computer science, computer engineering, or sof...   \n",
       "19  Another engineering discipline (such as civil,...   \n",
       "\n",
       "                 WebframeDesireNextYear  \\\n",
       "0                          ASP.NET Core   \n",
       "1                                   NaN   \n",
       "2                                   NaN   \n",
       "3                                   NaN   \n",
       "4                  Django;Ruby on Rails   \n",
       "5                              React.js   \n",
       "6                                   NaN   \n",
       "7                Django;React.js;Vue.js   \n",
       "8                            Angular.js   \n",
       "9                          Flask;jQuery   \n",
       "10              Angular;Django;React.js   \n",
       "11                       ASP.NET;jQuery   \n",
       "12                                  NaN   \n",
       "13                       Angular;Vue.js   \n",
       "14                                  NaN   \n",
       "15                                  NaN   \n",
       "16  ASP.NET Core;Gatsby;React.js;Vue.js   \n",
       "17                                  NaN   \n",
       "18              Django;Express;React.js   \n",
       "19                               Spring   \n",
       "\n",
       "                       WebframeWorkedWith  \\\n",
       "0                    ASP.NET;ASP.NET Core   \n",
       "1                                     NaN   \n",
       "2                                     NaN   \n",
       "3                                     NaN   \n",
       "4                           Ruby on Rails   \n",
       "5                                     NaN   \n",
       "6                                     NaN   \n",
       "7                                   Flask   \n",
       "8                                  jQuery   \n",
       "9                            Flask;jQuery   \n",
       "10     Angular;Angular.js;Django;React.js   \n",
       "11                         ASP.NET;jQuery   \n",
       "12                                    NaN   \n",
       "13                         Angular;Vue.js   \n",
       "14                                    NaN   \n",
       "15                        jQuery;React.js   \n",
       "16  ASP.NET;Gatsby;jQuery;React.js;Vue.js   \n",
       "17                                    NaN   \n",
       "18        Angular;Angular.js;ASP.NET Core   \n",
       "19                      Angular.js;Spring   \n",
       "\n",
       "                               WelcomeChange WorkWeekHrs YearsCode  \\\n",
       "0    Just as welcome now as I felt last year        50.0        36   \n",
       "1   Somewhat more welcome now than last year         NaN         7   \n",
       "2   Somewhat more welcome now than last year         NaN         4   \n",
       "3   Somewhat less welcome now than last year        40.0         7   \n",
       "4    Just as welcome now as I felt last year         NaN        15   \n",
       "5                                        NaN         NaN         6   \n",
       "6      A lot more welcome now than last year         NaN         6   \n",
       "7    Just as welcome now as I felt last year        39.0        17   \n",
       "8    Just as welcome now as I felt last year        50.0         6   \n",
       "9   Somewhat more welcome now than last year        36.0         8   \n",
       "10   Just as welcome now as I felt last year        40.0        10   \n",
       "11   Just as welcome now as I felt last year        40.0         7   \n",
       "12     A lot less welcome now than last year        36.0        35   \n",
       "13   Just as welcome now as I felt last year        40.0         5   \n",
       "14   Just as welcome now as I felt last year         NaN         4   \n",
       "15   Just as welcome now as I felt last year        50.0        37   \n",
       "16   Just as welcome now as I felt last year        40.0         7   \n",
       "17   Just as welcome now as I felt last year        45.0        19   \n",
       "18   Just as welcome now as I felt last year        35.0         9   \n",
       "19   Just as welcome now as I felt last year        50.0        22   \n",
       "\n",
       "   YearsCodePro  \n",
       "0            27  \n",
       "1             4  \n",
       "2           NaN  \n",
       "3             4  \n",
       "4             8  \n",
       "5             4  \n",
       "6             4  \n",
       "7            13  \n",
       "8             4  \n",
       "9             4  \n",
       "10            2  \n",
       "11            7  \n",
       "12           20  \n",
       "13            1  \n",
       "14          NaN  \n",
       "15           23  \n",
       "16            3  \n",
       "17           12  \n",
       "18            3  \n",
       "19           17  \n",
       "\n",
       "[20 rows x 61 columns]"
      ]
     },
     "execution_count": 43,
     "metadata": {},
     "output_type": "execute_result"
    }
   ],
   "source": [
    "import numpy as np\n",
    "import pandas as pd\n",
    "import seaborn as sns\n",
    "from collections import defaultdict\n",
    "import matplotlib.pyplot as plt\n",
    "%matplotlib inline\n",
    "\n",
    "df = pd.read_csv('./survey_results_public.csv')\n",
    "df.head(20)"
   ]
  },
  {
   "cell_type": "code",
   "execution_count": 44,
   "metadata": {},
   "outputs": [
    {
     "data": {
      "text/html": [
       "<div>\n",
       "<style scoped>\n",
       "    .dataframe tbody tr th:only-of-type {\n",
       "        vertical-align: middle;\n",
       "    }\n",
       "\n",
       "    .dataframe tbody tr th {\n",
       "        vertical-align: top;\n",
       "    }\n",
       "\n",
       "    .dataframe thead th {\n",
       "        text-align: right;\n",
       "    }\n",
       "</style>\n",
       "<table border=\"1\" class=\"dataframe\">\n",
       "  <thead>\n",
       "    <tr style=\"text-align: right;\">\n",
       "      <th></th>\n",
       "      <th>Column</th>\n",
       "      <th>QuestionText</th>\n",
       "    </tr>\n",
       "  </thead>\n",
       "  <tbody>\n",
       "    <tr>\n",
       "      <th>0</th>\n",
       "      <td>Respondent</td>\n",
       "      <td>Randomized respondent ID number (not in order ...</td>\n",
       "    </tr>\n",
       "    <tr>\n",
       "      <th>1</th>\n",
       "      <td>MainBranch</td>\n",
       "      <td>Which of the following options best describes ...</td>\n",
       "    </tr>\n",
       "    <tr>\n",
       "      <th>2</th>\n",
       "      <td>Hobbyist</td>\n",
       "      <td>Do you code as a hobby?</td>\n",
       "    </tr>\n",
       "    <tr>\n",
       "      <th>3</th>\n",
       "      <td>Age</td>\n",
       "      <td>What is your age (in years)? If you prefer not...</td>\n",
       "    </tr>\n",
       "    <tr>\n",
       "      <th>4</th>\n",
       "      <td>Age1stCode</td>\n",
       "      <td>At what age did you write your first line of c...</td>\n",
       "    </tr>\n",
       "    <tr>\n",
       "      <th>...</th>\n",
       "      <td>...</td>\n",
       "      <td>...</td>\n",
       "    </tr>\n",
       "    <tr>\n",
       "      <th>56</th>\n",
       "      <td>WebframeWorkedWith</td>\n",
       "      <td>Which web frameworks have you done extensive d...</td>\n",
       "    </tr>\n",
       "    <tr>\n",
       "      <th>57</th>\n",
       "      <td>WelcomeChange</td>\n",
       "      <td>Compared to last year, how welcome do you feel...</td>\n",
       "    </tr>\n",
       "    <tr>\n",
       "      <th>58</th>\n",
       "      <td>WorkWeekHrs</td>\n",
       "      <td>On average, how many hours per week do you wor...</td>\n",
       "    </tr>\n",
       "    <tr>\n",
       "      <th>59</th>\n",
       "      <td>YearsCode</td>\n",
       "      <td>Including any education, how many years have y...</td>\n",
       "    </tr>\n",
       "    <tr>\n",
       "      <th>60</th>\n",
       "      <td>YearsCodePro</td>\n",
       "      <td>NOT including education, how many years have y...</td>\n",
       "    </tr>\n",
       "  </tbody>\n",
       "</table>\n",
       "<p>61 rows × 2 columns</p>\n",
       "</div>"
      ],
      "text/plain": [
       "                Column                                       QuestionText\n",
       "0           Respondent  Randomized respondent ID number (not in order ...\n",
       "1           MainBranch  Which of the following options best describes ...\n",
       "2             Hobbyist                            Do you code as a hobby?\n",
       "3                  Age  What is your age (in years)? If you prefer not...\n",
       "4           Age1stCode  At what age did you write your first line of c...\n",
       "..                 ...                                                ...\n",
       "56  WebframeWorkedWith  Which web frameworks have you done extensive d...\n",
       "57       WelcomeChange  Compared to last year, how welcome do you feel...\n",
       "58         WorkWeekHrs  On average, how many hours per week do you wor...\n",
       "59           YearsCode  Including any education, how many years have y...\n",
       "60        YearsCodePro  NOT including education, how many years have y...\n",
       "\n",
       "[61 rows x 2 columns]"
      ]
     },
     "execution_count": 44,
     "metadata": {},
     "output_type": "execute_result"
    }
   ],
   "source": [
    "df2 = pd.read_csv('./survey_results_schema.csv')\n",
    "df2.head(61)"
   ]
  },
  {
   "cell_type": "code",
   "execution_count": 45,
   "metadata": {},
   "outputs": [
    {
     "data": {
      "text/plain": [
       "['Which of the following options best describes you today? Here, by \"developer\" we mean \"someone who writes code.\"']"
      ]
     },
     "execution_count": 45,
     "metadata": {},
     "output_type": "execute_result"
    }
   ],
   "source": [
    "\n",
    "list(df2[df2.Column == 'MainBranch']['QuestionText'])"
   ]
  },
  {
   "cell_type": "code",
   "execution_count": 46,
   "metadata": {},
   "outputs": [
    {
     "data": {
      "text/plain": [
       "array(['I am a developer by profession', 'I code primarily as a hobby',\n",
       "       'I used to be a developer by profession, but no longer am',\n",
       "       'I am not primarily a developer, but I write code sometimes as part of my work',\n",
       "       'I am a student who is learning to code', nan], dtype=object)"
      ]
     },
     "execution_count": 46,
     "metadata": {},
     "output_type": "execute_result"
    }
   ],
   "source": [
    "df['MainBranch'].unique()"
   ]
  },
  {
   "cell_type": "code",
   "execution_count": 47,
   "metadata": {},
   "outputs": [
    {
     "data": {
      "text/plain": [
       "['Do you code as a hobby?']"
      ]
     },
     "execution_count": 47,
     "metadata": {},
     "output_type": "execute_result"
    }
   ],
   "source": [
    "df2 = pd.read_csv('./survey_results_schema.csv')\n",
    "list(df2[df2.Column == 'Hobbyist']['QuestionText'])"
   ]
  },
  {
   "cell_type": "code",
   "execution_count": 48,
   "metadata": {},
   "outputs": [
    {
     "data": {
      "text/plain": [
       "array(['Germany', 'United Kingdom', 'Russian Federation', 'Albania',\n",
       "       'United States', 'India', 'Tunisia', 'Spain', 'Netherlands',\n",
       "       'France', 'Belgium', 'Portugal', 'Canada', 'China', 'Ukraine',\n",
       "       'Italy', 'Brazil', 'Austria', 'Mexico', 'Sweden', 'Poland',\n",
       "       'Indonesia', 'Greece', 'Israel', 'Czech Republic',\n",
       "       'Bosnia and Herzegovina', 'Bulgaria', 'Serbia', 'Switzerland',\n",
       "       'Hungary', 'Nepal', 'Slovenia', 'Uruguay', 'Denmark', 'Pakistan',\n",
       "       'Taiwan', 'Romania', 'Finland', 'Costa Rica', 'Nigeria', 'Chile',\n",
       "       'Turkey', 'Panama', 'Ireland', 'Estonia', 'Philippines',\n",
       "       'Australia', 'Nomadic', 'Peru', 'Cyprus', 'Sri Lanka', 'Kenya',\n",
       "       'Norway', 'Kyrgyzstan', 'Iran', 'Croatia', 'Egypt', 'Argentina',\n",
       "       'Ghana', 'Latvia', 'Morocco', 'Bangladesh', 'Ecuador', 'Haiti',\n",
       "       'Venezuela, Bolivarian Republic of...', 'Colombia', 'Lithuania',\n",
       "       'El Salvador', 'Honduras', 'Ethiopia', 'Lebanon', 'Uganda',\n",
       "       'Algeria', 'Viet Nam', 'Guatemala', 'Syrian Arab Republic',\n",
       "       'Afghanistan', 'Slovakia', 'United Arab Emirates', 'Belarus',\n",
       "       'Sudan', 'South Africa', 'Jordan', 'Georgia',\n",
       "       'United Republic of Tanzania', 'Antigua and Barbuda',\n",
       "       'Saudi Arabia', 'New Zealand', 'Kuwait', 'Armenia',\n",
       "       'Republic of Moldova', 'Cuba', 'Luxembourg', 'Singapore',\n",
       "       'Azerbaijan', 'Dominican Republic', 'Iceland', 'Isle of Man',\n",
       "       'Uzbekistan', 'Trinidad and Tobago', 'Senegal', 'Andorra',\n",
       "       'Turkmenistan', 'Hong Kong (S.A.R.)', 'Benin', 'Bolivia',\n",
       "       'Republic of Korea', 'Japan', 'Malta', 'Iraq', 'South Korea',\n",
       "       'Paraguay', 'Malaysia', 'Thailand', 'Myanmar', 'Kazakhstan',\n",
       "       'Cambodia', 'Jamaica', 'Nicaragua', 'Maldives',\n",
       "       'Democratic Republic of the Congo', 'Papua New Guinea', 'Oman',\n",
       "       'The former Yugoslav Republic of Macedonia', 'Malawi', 'Qatar',\n",
       "       'Madagascar', 'Botswana', 'Angola', 'Montenegro', 'Yemen',\n",
       "       'Mongolia', 'Kosovo', 'Zambia', 'Zimbabwe',\n",
       "       'Libyan Arab Jamahiriya', 'Mozambique', 'Somalia', 'Eritrea',\n",
       "       'Namibia', 'Rwanda', 'Burkina Faso', 'Congo, Republic of the...',\n",
       "       'Swaziland', 'Bhutan', 'Cameroon', 'Bahrain', \"Côte d'Ivoire\",\n",
       "       'Sierra Leone', 'Togo', 'Niger', 'Barbados', 'Belize',\n",
       "       'Saint Vincent and the Grenadines',\n",
       "       \"Lao People's Democratic Republic\", 'Tajikistan', 'Mauritius',\n",
       "       'Guinea', 'Brunei Darussalam', 'Bahamas', 'Mauritania',\n",
       "       'Saint Lucia', 'Djibouti', 'San Marino', 'Lesotho', 'Nauru', nan,\n",
       "       'Burundi', 'Fiji', 'Kiribati', 'Grenada', 'Chad', 'Mali', 'Guyana',\n",
       "       'Micronesia, Federated States of...', 'Gambia', 'North Korea',\n",
       "       'Liechtenstein', 'Monaco', 'Timor-Leste', 'Solomon Islands',\n",
       "       'Cape Verde', 'Gabon', 'Marshall Islands'], dtype=object)"
      ]
     },
     "execution_count": 48,
     "metadata": {},
     "output_type": "execute_result"
    }
   ],
   "source": [
    "df['Country'].unique()"
   ]
  },
  {
   "cell_type": "code",
   "execution_count": 49,
   "metadata": {},
   "outputs": [
    {
     "data": {
      "text/plain": [
       "Respondent            190\n",
       "MainBranch            189\n",
       "Hobbyist              190\n",
       "Age                   177\n",
       "Age1stCode            189\n",
       "                     ... \n",
       "WebframeWorkedWith    128\n",
       "WelcomeChange         185\n",
       "WorkWeekHrs           143\n",
       "YearsCode             185\n",
       "YearsCodePro          147\n",
       "Length: 61, dtype: int64"
      ]
     },
     "execution_count": 49,
     "metadata": {},
     "output_type": "execute_result"
    }
   ],
   "source": [
    "df[(df['Country']=='Germany') & (df['Gender']=='Woman')].count()"
   ]
  },
  {
   "cell_type": "code",
   "execution_count": 50,
   "metadata": {},
   "outputs": [
    {
     "data": {
      "text/plain": [
       "Respondent            3107\n",
       "MainBranch            3102\n",
       "Hobbyist              3107\n",
       "Age                   2835\n",
       "Age1stCode            3093\n",
       "                      ... \n",
       "WebframeWorkedWith    2135\n",
       "WelcomeChange         2974\n",
       "WorkWeekHrs           2353\n",
       "YearsCode             3085\n",
       "YearsCodePro          2468\n",
       "Length: 61, dtype: int64"
      ]
     },
     "execution_count": 50,
     "metadata": {},
     "output_type": "execute_result"
    }
   ],
   "source": [
    "df[(df['Country']=='Germany') & (df['Gender']=='Man')].count()"
   ]
  },
  {
   "cell_type": "code",
   "execution_count": 81,
   "metadata": {},
   "outputs": [
    {
     "name": "stdout",
     "output_type": "stream",
     "text": [
      "Number of men that took part in the survey in Germany\n",
      "3107\n",
      "Number of women that took part in the survey in Germany\n",
      "190\n",
      "Number of people that took part in the survey in Germany and did not identify themselves as Man or Woman or did not fill in the Gender field\n",
      "783\n"
     ]
    }
   ],
   "source": [
    "df_Germany_Woman = df[(df['Country']=='Germany')&(df['Gender']=='Woman')]['Respondent'].count()\n",
    "df_Germany_Man = df[(df['Country']=='Germany')&(df['Gender']=='Man')]['Respondent'].count()\n",
    "df_Germany_notManWoman = df[(df['Country']=='Germany')&(df['Gender']!=('Man' or 'Woman'))]['Respondent'].count()\n",
    "\n",
    "\n",
    "print('Number of men that took part in the survey in Germany')\n",
    "print(df_Germany_Man)\n",
    "print('Number of women that took part in the survey in Germany')\n",
    "print(df_Germany_Woman)\n",
    "print('Number of people that took part in the survey in Germany and did not identify themselves as Man or Woman or did not fill in the Gender field')\n",
    "print(df_Germany_notManWoman)\n",
    "#plot = df.plot.pie(y='', figsize=(5, 5))"
   ]
  },
  {
   "cell_type": "code",
   "execution_count": 79,
   "metadata": {},
   "outputs": [
    {
     "data": {
      "text/plain": [
       "array(['Man', nan, 'Woman',\n",
       "       'Man;Non-binary, genderqueer, or gender non-conforming',\n",
       "       'Non-binary, genderqueer, or gender non-conforming',\n",
       "       'Woman;Man;Non-binary, genderqueer, or gender non-conforming',\n",
       "       'Woman;Man',\n",
       "       'Woman;Non-binary, genderqueer, or gender non-conforming'],\n",
       "      dtype=object)"
      ]
     },
     "execution_count": 79,
     "metadata": {},
     "output_type": "execute_result"
    }
   ],
   "source": [
    "df['Gender'][df['Country']=='Germany'].unique()"
   ]
  },
  {
   "cell_type": "markdown",
   "metadata": {},
   "source": [
    "https://international.eco.de/women-in-tech-a-good-practice-guide-for-companies/#:~:text=In%20Germany%2C%20just%2016.8%25%20of,are%20as%20many%20as%20five."
   ]
  },
  {
   "cell_type": "code",
   "execution_count": 36,
   "metadata": {},
   "outputs": [
    {
     "data": {
      "text/plain": [
       "29.0    169\n",
       "30.0    163\n",
       "25.0    156\n",
       "32.0    154\n",
       "31.0    148\n",
       "28.0    141\n",
       "24.0    137\n",
       "27.0    132\n",
       "22.0    127\n",
       "23.0    121\n",
       "26.0    120\n",
       "35.0    119\n",
       "33.0    116\n",
       "21.0    113\n",
       "34.0    110\n",
       "38.0     92\n",
       "36.0     89\n",
       "20.0     82\n",
       "40.0     73\n",
       "37.0     68\n",
       "39.0     64\n",
       "19.0     60\n",
       "18.0     49\n",
       "41.0     46\n",
       "42.0     44\n",
       "17.0     39\n",
       "43.0     33\n",
       "46.0     30\n",
       "45.0     30\n",
       "47.0     26\n",
       "16.0     25\n",
       "49.0     22\n",
       "15.0     21\n",
       "50.0     20\n",
       "48.0     20\n",
       "52.0     18\n",
       "44.0     17\n",
       "53.0     15\n",
       "51.0     11\n",
       "54.0      9\n",
       "57.0      8\n",
       "55.0      8\n",
       "61.0      7\n",
       "56.0      6\n",
       "58.0      6\n",
       "60.0      4\n",
       "63.0      3\n",
       "64.0      3\n",
       "14.0      3\n",
       "59.0      2\n",
       "65.0      1\n",
       "62.0      1\n",
       "69.0      1\n",
       "12.0      1\n",
       "31.5      1\n",
       "78.0      1\n",
       "71.0      1\n",
       "Name: Age, dtype: int64"
      ]
     },
     "execution_count": 36,
     "metadata": {},
     "output_type": "execute_result"
    }
   ],
   "source": [
    "df['Age'][df['Country']=='Germany'].value_counts()"
   ]
  },
  {
   "cell_type": "code",
   "execution_count": 10,
   "metadata": {},
   "outputs": [
    {
     "data": {
      "text/plain": [
       "array(['Computer science, computer engineering, or software engineering',\n",
       "       nan, 'Mathematics or statistics',\n",
       "       'Another engineering discipline (such as civil, electrical, mechanical, etc.)',\n",
       "       'A humanities discipline (such as literature, history, philosophy, etc.)',\n",
       "       'A health science (such as nursing, pharmacy, radiology, etc.)',\n",
       "       'Information systems, information technology, or system administration',\n",
       "       'Web development or web design',\n",
       "       'A natural science (such as biology, chemistry, physics, etc.)',\n",
       "       'Fine arts or performing arts (such as graphic design, music, studio art, etc.)',\n",
       "       'I never declared a major',\n",
       "       'A social science (such as anthropology, psychology, political science, etc.)',\n",
       "       'A business discipline (such as accounting, finance, marketing, etc.)'],\n",
       "      dtype=object)"
      ]
     },
     "execution_count": 10,
     "metadata": {},
     "output_type": "execute_result"
    }
   ],
   "source": [
    "df['UndergradMajor'].unique()"
   ]
  },
  {
   "cell_type": "code",
   "execution_count": 11,
   "metadata": {},
   "outputs": [
    {
     "data": {
      "text/plain": [
       "Computer science, computer engineering, or software engineering                   48.993965\n",
       "Another engineering discipline (such as civil, electrical, mechanical, etc.)       7.375002\n",
       "Information systems, information technology, or system administration              6.315447\n",
       "A natural science (such as biology, chemistry, physics, etc.)                      3.420673\n",
       "Mathematics or statistics                                                          2.868401\n",
       "Web development or web design                                                      2.775322\n",
       "A business discipline (such as accounting, finance, marketing, etc.)               2.133073\n",
       "A humanities discipline (such as literature, history, philosophy, etc.)            1.562185\n",
       "A social science (such as anthropology, psychology, political science, etc.)       1.447387\n",
       "Fine arts or performing arts (such as graphic design, music, studio art, etc.)     1.124711\n",
       "I never declared a major                                                           0.702751\n",
       "A health science (such as nursing, pharmacy, radiology, etc.)                      0.390934\n",
       "Name: UndergradMajor, dtype: float64"
      ]
     },
     "execution_count": 11,
     "metadata": {},
     "output_type": "execute_result"
    }
   ],
   "source": [
    "df['UndergradMajor'].value_counts()/len(df['UndergradMajor'])*100"
   ]
  },
  {
   "cell_type": "code",
   "execution_count": null,
   "metadata": {},
   "outputs": [],
   "source": []
  },
  {
   "cell_type": "code",
   "execution_count": 53,
   "metadata": {},
   "outputs": [
    {
     "data": {
      "text/plain": [
       "Computer science, computer engineering, or software engineering                   54.784517\n",
       "Another engineering discipline (such as civil, electrical, mechanical, etc.)       8.332428\n",
       "Information systems, information technology, or system administration              6.854585\n",
       "A natural science (such as biology, chemistry, physics, etc.)                      3.718514\n",
       "Mathematics or statistics                                                          3.099124\n",
       "Web development or web design                                                      2.749223\n",
       "A business discipline (such as accounting, finance, marketing, etc.)               2.318910\n",
       "A humanities discipline (such as literature, history, philosophy, etc.)            1.475670\n",
       "A social science (such as anthropology, psychology, political science, etc.)       1.377871\n",
       "Fine arts or performing arts (such as graphic design, music, studio art, etc.)     1.077956\n",
       "I never declared a major                                                           0.773694\n",
       "A health science (such as nursing, pharmacy, radiology, etc.)                      0.389020\n",
       "Name: UndergradMajor, dtype: float64"
      ]
     },
     "execution_count": 53,
     "metadata": {},
     "output_type": "execute_result"
    }
   ],
   "source": [
    "df[df['Gender']=='Man']['UndergradMajor'].value_counts()/len(df[df['Gender']=='Man']['UndergradMajor'])*100"
   ]
  },
  {
   "cell_type": "code",
   "execution_count": 40,
   "metadata": {},
   "outputs": [
    {
     "data": {
      "text/plain": [
       "Master’s degree (M.A., M.S., M.Eng., MBA, etc.)                                       36.842105\n",
       "Bachelor’s degree (B.A., B.S., B.Eng., etc.)                                          28.421053\n",
       "Secondary school (e.g. American high school, German Realschule or Gymnasium, etc.)    13.157895\n",
       "Some college/university study without earning a degree                                 8.421053\n",
       "Other doctoral degree (Ph.D., Ed.D., etc.)                                             4.736842\n",
       "Associate degree (A.A., A.S., etc.)                                                    2.631579\n",
       "Professional degree (JD, MD, etc.)                                                     1.578947\n",
       "Name: EdLevel, dtype: float64"
      ]
     },
     "execution_count": 40,
     "metadata": {},
     "output_type": "execute_result"
    }
   ],
   "source": [
    "df[(df['Gender']=='Woman') & (df['Country']=='Germany')]['EdLevel'].value_counts()/len(df[(df['Gender']=='Woman')& (df['Country']=='Germany')]['EdLevel'])*100"
   ]
  },
  {
   "cell_type": "code",
   "execution_count": 41,
   "metadata": {},
   "outputs": [
    {
     "data": {
      "text/plain": [
       "Master’s degree (M.A., M.S., M.Eng., MBA, etc.)                                       30.576118\n",
       "Bachelor’s degree (B.A., B.S., B.Eng., etc.)                                          27.261023\n",
       "Secondary school (e.g. American high school, German Realschule or Gymnasium, etc.)    17.315739\n",
       "Some college/university study without earning a degree                                11.168330\n",
       "Other doctoral degree (Ph.D., Ed.D., etc.)                                             4.795623\n",
       "Associate degree (A.A., A.S., etc.)                                                    2.639202\n",
       "Professional degree (JD, MD, etc.)                                                     1.319601\n",
       "Primary/elementary school                                                              0.836820\n",
       "I never completed any formal education                                                 0.225298\n",
       "Name: EdLevel, dtype: float64"
      ]
     },
     "execution_count": 41,
     "metadata": {},
     "output_type": "execute_result"
    }
   ],
   "source": [
    "df[(df['Gender']=='Man') & (df['Country']=='Germany')]['EdLevel'].value_counts()/len(df[(df['Gender']=='Man')& (df['Country']=='Germany')]['EdLevel'])*100"
   ]
  },
  {
   "cell_type": "code",
   "execution_count": 58,
   "metadata": {},
   "outputs": [
    {
     "data": {
      "text/plain": [
       "<AxesSubplot:xlabel='EdLevel', ylabel='count'>"
      ]
     },
     "execution_count": 58,
     "metadata": {},
     "output_type": "execute_result"
    },
    {
     "data": {
      "image/png": "[encoded data removed]",
      "text/plain": [
       "<Figure size 432x288 with 1 Axes>"
      ]
     },
     "metadata": {
      "needs_background": "light"
     },
     "output_type": "display_data"
    }
   ],
   "source": [
    "#sns.countplot(x=\"EdLevel\", data=df[df['Country']=='Germany'], hue='Gender')\n",
    "#sns.catplot(x=\"Edlevel\", kind=\"count\", palette=\"ch:.25\", data=df)"
   ]
  },
  {
   "cell_type": "code",
   "execution_count": 13,
   "metadata": {},
   "outputs": [
    {
     "data": {
      "text/plain": [
       "Computer science, computer engineering, or software engineering                   46.826223\n",
       "Information systems, information technology, or system administration              6.633715\n",
       "A natural science (such as biology, chemistry, physics, etc.)                      6.035380\n",
       "Another engineering discipline (such as civil, electrical, mechanical, etc.)       5.775234\n",
       "A humanities discipline (such as literature, history, philosophy, etc.)            5.072841\n",
       "A social science (such as anthropology, psychology, political science, etc.)       4.318418\n",
       "Mathematics or statistics                                                          4.136316\n",
       "Web development or web design                                                      3.277836\n",
       "Fine arts or performing arts (such as graphic design, music, studio art, etc.)     2.913632\n",
       "A business discipline (such as accounting, finance, marketing, etc.)               2.497399\n",
       "A health science (such as nursing, pharmacy, radiology, etc.)                      1.118626\n",
       "I never declared a major                                                           0.728408\n",
       "Name: UndergradMajor, dtype: float64"
      ]
     },
     "execution_count": 13,
     "metadata": {},
     "output_type": "execute_result"
    }
   ],
   "source": [
    "df[df['Gender']=='Woman']['UndergradMajor'].value_counts()/len(df[df['Gender']=='Woman']['UndergradMajor'])*100"
   ]
  },
  {
   "cell_type": "code",
   "execution_count": 14,
   "metadata": {},
   "outputs": [
    {
     "data": {
      "text/plain": [
       "Computer science, computer engineering, or software engineering                   52.462182\n",
       "Another engineering discipline (such as civil, electrical, mechanical, etc.)       6.984229\n",
       "A natural science (such as biology, chemistry, physics, etc.)                      5.214033\n",
       "Information systems, information technology, or system administration              4.634696\n",
       "Mathematics or statistics                                                          3.765690\n",
       "A business discipline (such as accounting, finance, marketing, etc.)               1.673640\n",
       "Web development or web design                                                      1.287416\n",
       "A social science (such as anthropology, psychology, political science, etc.)       0.965562\n",
       "I never declared a major                                                           0.804635\n",
       "A humanities discipline (such as literature, history, philosophy, etc.)            0.772449\n",
       "Fine arts or performing arts (such as graphic design, music, studio art, etc.)     0.611522\n",
       "A health science (such as nursing, pharmacy, radiology, etc.)                      0.321854\n",
       "Name: UndergradMajor, dtype: float64"
      ]
     },
     "execution_count": 14,
     "metadata": {},
     "output_type": "execute_result"
    }
   ],
   "source": [
    "df[(df['Gender']=='Man')&(df['Country']=='Germany')]['UndergradMajor'].value_counts()/len(df[(df['Gender']=='Man')&(df['Country']=='Germany')]['UndergradMajor'])*100"
   ]
  },
  {
   "cell_type": "code",
   "execution_count": 15,
   "metadata": {},
   "outputs": [
    {
     "data": {
      "text/plain": [
       "Computer science, computer engineering, or software engineering                   45.789474\n",
       "A natural science (such as biology, chemistry, physics, etc.)                      7.894737\n",
       "Another engineering discipline (such as civil, electrical, mechanical, etc.)       5.789474\n",
       "Information systems, information technology, or system administration              4.736842\n",
       "A humanities discipline (such as literature, history, philosophy, etc.)            4.210526\n",
       "Mathematics or statistics                                                          3.684211\n",
       "A social science (such as anthropology, psychology, political science, etc.)       3.157895\n",
       "A business discipline (such as accounting, finance, marketing, etc.)               2.631579\n",
       "Fine arts or performing arts (such as graphic design, music, studio art, etc.)     1.578947\n",
       "Web development or web design                                                      1.052632\n",
       "I never declared a major                                                           1.052632\n",
       "A health science (such as nursing, pharmacy, radiology, etc.)                      0.526316\n",
       "Name: UndergradMajor, dtype: float64"
      ]
     },
     "execution_count": 15,
     "metadata": {},
     "output_type": "execute_result"
    }
   ],
   "source": [
    "df[(df['Gender']=='Woman')&(df['Country']=='Germany')]['UndergradMajor'].value_counts()/len(df[(df['Gender']=='Woman')&(df['Country']=='Germany')]['UndergradMajor'])*100"
   ]
  },
  {
   "cell_type": "code",
   "execution_count": 16,
   "metadata": {},
   "outputs": [
    {
     "data": {
      "text/plain": [
       "Yes    66.315789\n",
       "No     33.684211\n",
       "Name: Hobbyist, dtype: float64"
      ]
     },
     "execution_count": 16,
     "metadata": {},
     "output_type": "execute_result"
    }
   ],
   "source": [
    "df[(df['Gender']=='Woman')&(df['Country']=='Germany')]['Hobbyist'].value_counts()/len(df[(df['Gender']=='Woman')&(df['Country']=='Germany')]['Hobbyist'])*100"
   ]
  },
  {
   "cell_type": "code",
   "execution_count": 17,
   "metadata": {},
   "outputs": [
    {
     "data": {
      "text/plain": [
       "Yes    85.420019\n",
       "No     14.579981\n",
       "Name: Hobbyist, dtype: float64"
      ]
     },
     "execution_count": 17,
     "metadata": {},
     "output_type": "execute_result"
    }
   ],
   "source": [
    "df[(df['Gender']=='Man')&(df['Country']=='Germany')]['Hobbyist'].value_counts()/len(df[(df['Gender']=='Man')&(df['Country']=='Germany')]['Hobbyist'])*100"
   ]
  },
  {
   "cell_type": "code",
   "execution_count": 18,
   "metadata": {},
   "outputs": [
    {
     "data": {
      "text/plain": [
       "16                      11.578947\n",
       "15                       8.421053\n",
       "12                       8.421053\n",
       "14                       7.894737\n",
       "18                       6.842105\n",
       "17                       6.842105\n",
       "13                       6.315789\n",
       "20                       6.315789\n",
       "19                       5.263158\n",
       "11                       3.157895\n",
       "21                       3.157895\n",
       "10                       3.157895\n",
       "25                       3.157895\n",
       "26                       2.631579\n",
       "9                        2.631579\n",
       "30                       2.105263\n",
       "22                       2.105263\n",
       "23                       2.105263\n",
       "8                        1.578947\n",
       "28                       1.052632\n",
       "7                        1.052632\n",
       "6                        0.526316\n",
       "33                       0.526316\n",
       "32                       0.526316\n",
       "24                       0.526316\n",
       "Younger than 5 years     0.526316\n",
       "29                       0.526316\n",
       "34                       0.526316\n",
       "Name: Age1stCode, dtype: float64"
      ]
     },
     "execution_count": 18,
     "metadata": {},
     "output_type": "execute_result"
    }
   ],
   "source": [
    "df[(df['Gender']=='Woman')&(df['Country']=='Germany')]['Age1stCode'].value_counts()/len(df[(df['Gender']=='Woman')&(df['Country']=='Germany')]['Age1stCode'])*100"
   ]
  },
  {
   "cell_type": "code",
   "execution_count": 19,
   "metadata": {},
   "outputs": [
    {
     "data": {
      "text/plain": [
       "14                      14.998391\n",
       "12                      14.000644\n",
       "15                      10.943032\n",
       "13                      10.041841\n",
       "16                       8.915352\n",
       "10                       7.048600\n",
       "11                       6.018668\n",
       "17                       5.310589\n",
       "18                       4.023173\n",
       "9                        2.832314\n",
       "8                        2.800129\n",
       "20                       2.446089\n",
       "19                       2.252977\n",
       "7                        1.770196\n",
       "22                       0.997747\n",
       "6                        0.901191\n",
       "21                       0.836820\n",
       "25                       0.675893\n",
       "23                       0.482781\n",
       "24                       0.386225\n",
       "28                       0.354039\n",
       "5                        0.225298\n",
       "32                       0.193112\n",
       "Younger than 5 years     0.193112\n",
       "30                       0.193112\n",
       "27                       0.160927\n",
       "26                       0.160927\n",
       "29                       0.096556\n",
       "33                       0.064371\n",
       "46                       0.032185\n",
       "37                       0.032185\n",
       "34                       0.032185\n",
       "39                       0.032185\n",
       "31                       0.032185\n",
       "35                       0.032185\n",
       "43                       0.032185\n",
       "Name: Age1stCode, dtype: float64"
      ]
     },
     "execution_count": 19,
     "metadata": {},
     "output_type": "execute_result"
    }
   ],
   "source": [
    "df[(df['Gender']=='Man')&(df['Country']=='Germany')]['Age1stCode'].value_counts()/len(df[(df['Gender']=='Man')&(df['Country']=='Germany')]['Age1stCode'])*100"
   ]
  },
  {
   "cell_type": "code",
   "execution_count": 20,
   "metadata": {},
   "outputs": [
    {
     "data": {
      "text/plain": [
       "40.0    46.842105\n",
       "30.0     4.210526\n",
       "38.0     4.210526\n",
       "45.0     3.157895\n",
       "35.0     2.631579\n",
       "32.0     2.631579\n",
       "60.0     1.578947\n",
       "44.0     1.052632\n",
       "50.0     1.052632\n",
       "20.0     1.052632\n",
       "18.0     1.052632\n",
       "7.0      0.526316\n",
       "47.0     0.526316\n",
       "43.0     0.526316\n",
       "9.0      0.526316\n",
       "36.0     0.526316\n",
       "42.0     0.526316\n",
       "39.0     0.526316\n",
       "25.0     0.526316\n",
       "37.0     0.526316\n",
       "19.0     0.526316\n",
       "14.0     0.526316\n",
       "Name: WorkWeekHrs, dtype: float64"
      ]
     },
     "execution_count": 20,
     "metadata": {},
     "output_type": "execute_result"
    }
   ],
   "source": [
    "df[(df['Gender']=='Woman')&(df['Country']=='Germany')]['WorkWeekHrs'].value_counts()/len(df[(df['Gender']=='Woman')&(df['Country']=='Germany')]['WorkWeekHrs'])*100"
   ]
  },
  {
   "cell_type": "code",
   "execution_count": 21,
   "metadata": {},
   "outputs": [
    {
     "data": {
      "text/plain": [
       "40.00     43.289347\n",
       "45.00      4.473769\n",
       "35.00      3.636949\n",
       "38.00      2.993241\n",
       "50.00      2.961056\n",
       "42.00      2.542646\n",
       "30.00      1.802382\n",
       "39.00      1.705826\n",
       "20.00      1.416157\n",
       "32.00      1.319601\n",
       "43.00      1.029932\n",
       "37.00      0.836820\n",
       "60.00      0.708079\n",
       "41.00      0.643708\n",
       "55.00      0.611522\n",
       "8.00       0.611522\n",
       "44.00      0.514966\n",
       "36.00      0.482781\n",
       "16.00      0.354039\n",
       "25.00      0.321854\n",
       "24.00      0.257483\n",
       "5.00       0.193112\n",
       "15.00      0.193112\n",
       "48.00      0.193112\n",
       "9.00       0.193112\n",
       "10.00      0.193112\n",
       "34.00      0.160927\n",
       "375.00     0.160927\n",
       "12.00      0.128742\n",
       "28.00      0.128742\n",
       "70.00      0.128742\n",
       "80.00      0.096556\n",
       "19.00      0.096556\n",
       "7.00       0.096556\n",
       "31.00      0.096556\n",
       "6.00       0.096556\n",
       "13.00      0.096556\n",
       "46.00      0.064371\n",
       "49.00      0.064371\n",
       "100.00     0.064371\n",
       "37.50      0.064371\n",
       "52.00      0.064371\n",
       "23.00      0.064371\n",
       "160.00     0.064371\n",
       "38.75      0.032185\n",
       "47.00      0.032185\n",
       "385.00     0.032185\n",
       "387.00     0.032185\n",
       "90.00      0.032185\n",
       "39.50      0.032185\n",
       "4.00       0.032185\n",
       "65.00      0.032185\n",
       "67.00      0.032185\n",
       "42.50      0.032185\n",
       "7.50       0.032185\n",
       "17.00      0.032185\n",
       "26.00      0.032185\n",
       "18.00      0.032185\n",
       "22.00      0.032185\n",
       "38.50      0.032185\n",
       "Name: WorkWeekHrs, dtype: float64"
      ]
     },
     "execution_count": 21,
     "metadata": {},
     "output_type": "execute_result"
    }
   ],
   "source": [
    "df[(df['Gender']=='Man')&(df['Country']=='Germany')]['WorkWeekHrs'].value_counts()/len(df[(df['Gender']=='Man')&(df['Country']=='Germany')]['WorkWeekHrs'])*100"
   ]
  },
  {
   "cell_type": "code",
   "execution_count": 22,
   "metadata": {},
   "outputs": [
    {
     "data": {
      "text/plain": [
       "Flex time or a flexible schedule;Languages, frameworks, and other technologies I’d be working with;Office environment or company culture              6.437078\n",
       "Flex time or a flexible schedule;Languages, frameworks, and other technologies I’d be working with;Remote work options                                5.728999\n",
       "Languages, frameworks, and other technologies I’d be working with;Office environment or company culture;Opportunities for professional development    3.830061\n",
       "Flex time or a flexible schedule;Languages, frameworks, and other technologies I’d be working with;Opportunities for professional development         3.315095\n",
       "Flex time or a flexible schedule;Remote work options;Office environment or company culture                                                            3.154168\n",
       "                                                                                                                                                        ...   \n",
       "Diversity of the company or organization;Flex time or a flexible schedule;Financial performance or funding status of the company or organization      0.032185\n",
       "Industry that I’d be working in;Diversity of the company or organization;Family friendliness                                                          0.032185\n",
       "Industry that I’d be working in;Remote work options                                                                                                   0.032185\n",
       "Office environment or company culture;Opportunities for professional development                                                                      0.032185\n",
       "How widely used or impactful my work output would be;Office environment or company culture                                                            0.032185\n",
       "Name: JobFactors, Length: 180, dtype: float64"
      ]
     },
     "execution_count": 22,
     "metadata": {},
     "output_type": "execute_result"
    }
   ],
   "source": [
    "df[(df['Gender']=='Man')&(df['Country']=='Germany')]['JobFactors'].value_counts()/len(df[(df['Gender']=='Man')&(df['Country']=='Germany')]['JobFactors'])*100"
   ]
  },
  {
   "cell_type": "code",
   "execution_count": 82,
   "metadata": {},
   "outputs": [
    {
     "data": {
      "text/html": [
       "<div>\n",
       "<style scoped>\n",
       "    .dataframe tbody tr th:only-of-type {\n",
       "        vertical-align: middle;\n",
       "    }\n",
       "\n",
       "    .dataframe tbody tr th {\n",
       "        vertical-align: top;\n",
       "    }\n",
       "\n",
       "    .dataframe thead th {\n",
       "        text-align: right;\n",
       "    }\n",
       "</style>\n",
       "<table border=\"1\" class=\"dataframe\">\n",
       "  <thead>\n",
       "    <tr style=\"text-align: right;\">\n",
       "      <th></th>\n",
       "      <th>method</th>\n",
       "      <th>count</th>\n",
       "    </tr>\n",
       "  </thead>\n",
       "  <tbody>\n",
       "    <tr>\n",
       "      <th>0</th>\n",
       "      <td>Flex time or a flexible schedule;Languages, fr...</td>\n",
       "      <td>2485</td>\n",
       "    </tr>\n",
       "    <tr>\n",
       "      <th>1</th>\n",
       "      <td>Languages, frameworks, and other technologies ...</td>\n",
       "      <td>2273</td>\n",
       "    </tr>\n",
       "    <tr>\n",
       "      <th>2</th>\n",
       "      <td>Flex time or a flexible schedule;Languages, fr...</td>\n",
       "      <td>2195</td>\n",
       "    </tr>\n",
       "    <tr>\n",
       "      <th>3</th>\n",
       "      <td>Flex time or a flexible schedule;Languages, fr...</td>\n",
       "      <td>1476</td>\n",
       "    </tr>\n",
       "    <tr>\n",
       "      <th>4</th>\n",
       "      <td>Flex time or a flexible schedule;Office enviro...</td>\n",
       "      <td>1388</td>\n",
       "    </tr>\n",
       "  </tbody>\n",
       "</table>\n",
       "</div>"
      ],
      "text/plain": [
       "                                              method  count\n",
       "0  Flex time or a flexible schedule;Languages, fr...   2485\n",
       "1  Languages, frameworks, and other technologies ...   2273\n",
       "2  Flex time or a flexible schedule;Languages, fr...   2195\n",
       "3  Flex time or a flexible schedule;Languages, fr...   1476\n",
       "4  Flex time or a flexible schedule;Office enviro...   1388"
      ]
     },
     "execution_count": 82,
     "metadata": {},
     "output_type": "execute_result"
    }
   ],
   "source": [
    "df_satisfaction =df['Job'].str.split('; ')\n",
    "df_satisfaction = df.assign(method=df_cousin).explode('method')"
   ]
  },
  {
   "cell_type": "code",
   "execution_count": null,
   "metadata": {},
   "outputs": [],
   "source": []
  },
  {
   "cell_type": "code",
   "execution_count": 23,
   "metadata": {},
   "outputs": [
    {
     "data": {
      "text/plain": [
       "Flex time or a flexible schedule;Office environment or company culture;Opportunities for professional development                                               4.736842\n",
       "Flex time or a flexible schedule;Languages, frameworks, and other technologies I’d be working with;Remote work options                                          4.210526\n",
       "Languages, frameworks, and other technologies I’d be working with;Office environment or company culture;Opportunities for professional development              4.210526\n",
       "Flex time or a flexible schedule;Languages, frameworks, and other technologies I’d be working with;Office environment or company culture                        3.684211\n",
       "Flex time or a flexible schedule;Remote work options;Office environment or company culture                                                                      3.684211\n",
       "                                                                                                                                                                  ...   \n",
       "Remote work options;Opportunities for professional development                                                                                                  0.526316\n",
       "Diversity of the company or organization;Languages, frameworks, and other technologies I’d be working with;Opportunities for professional development           0.526316\n",
       "Flex time or a flexible schedule;Languages, frameworks, and other technologies I’d be working with;Specific department or team I’d be working on                0.526316\n",
       "How widely used or impactful my work output would be;Opportunities for professional development                                                                 0.526316\n",
       "Languages, frameworks, and other technologies I’d be working with;How widely used or impactful my work output would be;Office environment or company culture    0.526316\n",
       "Name: JobFactors, Length: 85, dtype: float64"
      ]
     },
     "execution_count": 23,
     "metadata": {},
     "output_type": "execute_result"
    }
   ],
   "source": [
    "df[(df['Gender']=='Woman')&(df['Country']=='Germany')]['JobFactors'].value_counts()/len(df[(df['Gender']=='Woman')&(df['Country']=='Germany')]['JobFactors'])*100"
   ]
  },
  {
   "cell_type": "code",
   "execution_count": 24,
   "metadata": {},
   "outputs": [
    {
     "data": {
      "text/plain": [
       "Very satisfied                        27.035726\n",
       "Slightly satisfied                    24.525266\n",
       "Slightly dissatisfied                 12.713228\n",
       "Neither satisfied nor dissatisfied     8.722240\n",
       "Very dissatisfied                      5.246218\n",
       "Name: JobSat, dtype: float64"
      ]
     },
     "execution_count": 24,
     "metadata": {},
     "output_type": "execute_result"
    }
   ],
   "source": [
    "df[(df['Gender']=='Man')&(df['Country']=='Germany')]['JobSat'].value_counts()/len(df[(df['Gender']=='Man')&(df['Country']=='Germany')]['JobSat'])*100"
   ]
  },
  {
   "cell_type": "code",
   "execution_count": 25,
   "metadata": {},
   "outputs": [
    {
     "data": {
      "text/plain": [
       "Very satisfied                        25.789474\n",
       "Slightly satisfied                    20.526316\n",
       "Slightly dissatisfied                 14.736842\n",
       "Neither satisfied nor dissatisfied    10.000000\n",
       "Very dissatisfied                      5.789474\n",
       "Name: JobSat, dtype: float64"
      ]
     },
     "execution_count": 25,
     "metadata": {},
     "output_type": "execute_result"
    }
   ],
   "source": [
    "df[(df['Gender']=='Woman')&(df['Country']=='Germany')]['JobSat'].value_counts()/len(df[(df['Gender']=='Woman')&(df['Country']=='Germany')]['JobSat'])*100"
   ]
  },
  {
   "cell_type": "code",
   "execution_count": 28,
   "metadata": {},
   "outputs": [
    {
     "data": {
      "text/plain": [
       "Sometimes: 1-2 days per month but less than weekly          23.237850\n",
       "Often: 1-2 days per week or more                            20.437721\n",
       "Occasionally: 1-2 days per quarter but less than monthly    14.290312\n",
       "Rarely: 1-2 days per year or less                           10.588993\n",
       "Never                                                        9.076279\n",
       "Name: NEWOvertime, dtype: float64"
      ]
     },
     "execution_count": 28,
     "metadata": {},
     "output_type": "execute_result"
    }
   ],
   "source": [
    "df[(df['Gender']=='Man')&(df['Country']=='Germany')]['NEWOvertime'].value_counts()/len(df[(df['Gender']=='Man')&(df['Country']=='Germany')]['NEWOvertime'])*100"
   ]
  },
  {
   "cell_type": "code",
   "execution_count": 29,
   "metadata": {},
   "outputs": [
    {
     "data": {
      "text/plain": [
       "Often: 1-2 days per week or more                            24.210526\n",
       "Sometimes: 1-2 days per month but less than weekly          18.947368\n",
       "Occasionally: 1-2 days per quarter but less than monthly    14.210526\n",
       "Never                                                       10.000000\n",
       "Rarely: 1-2 days per year or less                            8.947368\n",
       "Name: NEWOvertime, dtype: float64"
      ]
     },
     "execution_count": 29,
     "metadata": {},
     "output_type": "execute_result"
    }
   ],
   "source": [
    "df[(df['Gender']=='Woman')&(df['Country']=='Germany')]['NEWOvertime'].value_counts()/len(df[(df['Gender']=='Woman')&(df['Country']=='Germany')]['NEWOvertime'])*100"
   ]
  },
  {
   "cell_type": "code",
   "execution_count": 26,
   "metadata": {},
   "outputs": [
    {
     "data": {
      "text/plain": [
       "Fairly important                      22.497586\n",
       "Somewhat important                    20.212424\n",
       "Very important                        19.761828\n",
       "Not at all important/not necessary    12.294818\n",
       "Critically important                   6.984229\n",
       "Name: NEWEdImpt, dtype: float64"
      ]
     },
     "execution_count": 26,
     "metadata": {},
     "output_type": "execute_result"
    }
   ],
   "source": [
    "df[(df['Gender']=='Man')&(df['Country']=='Germany')]['NEWEdImpt'].value_counts()/len(df[(df['Gender']=='Man')&(df['Country']=='Germany')]['NEWEdImpt'])*100"
   ]
  },
  {
   "cell_type": "code",
   "execution_count": 27,
   "metadata": {},
   "outputs": [
    {
     "data": {
      "text/plain": [
       "Somewhat important                    22.631579\n",
       "Very important                        19.473684\n",
       "Fairly important                      17.894737\n",
       "Not at all important/not necessary    14.210526\n",
       "Critically important                   7.894737\n",
       "Name: NEWEdImpt, dtype: float64"
      ]
     },
     "execution_count": 27,
     "metadata": {},
     "output_type": "execute_result"
    }
   ],
   "source": [
    "df[(df['Gender']=='Woman')&(df['Country']=='Germany')]['NEWEdImpt'].value_counts()/len(df[(df['Gender']=='Woman')&(df['Country']=='Germany')]['NEWEdImpt'])*100"
   ]
  },
  {
   "cell_type": "code",
   "execution_count": null,
   "metadata": {},
   "outputs": [],
   "source": []
  }
 ],
 "metadata": {
  "kernelspec": {
   "display_name": "Python 3",
   "language": "python",
   "name": "python3"
  },
  "language_info": {
   "codemirror_mode": {
    "name": "ipython",
    "version": 3
   },
   "file_extension": ".py",
   "mimetype": "text/x-python",
   "name": "python",
   "nbconvert_exporter": "python",
   "pygments_lexer": "ipython3",
   "version": "3.8.5"
  }
 },
 "nbformat": 4,
 "nbformat_minor": 4
}
